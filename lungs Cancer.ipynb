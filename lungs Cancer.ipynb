{
 "cells": [
  {
   "cell_type": "markdown",
   "id": "c793a363-5f9e-4f3a-ad08-148d24a1987a",
   "metadata": {},
   "source": [
    "# Lung Cancer Detection using Convolutional Neural Network (CNN)"
   ]
  },
  {
   "cell_type": "code",
   "execution_count": 40,
   "id": "9671480c-0b41-40c7-929b-835c4f038c15",
   "metadata": {},
   "outputs": [
    {
     "name": "stdout",
     "output_type": "stream",
     "text": [
      "Libraries imported successfully!\n"
     ]
    }
   ],
   "source": [
    "# import library\n",
    "import os\n",
    "import numpy as np\n",
    "import pandas as pd\n",
    "import tensorflow as tf\n",
    "from tensorflow import keras\n",
    "from tensorflow.keras import layers\n",
    "from sklearn.model_selection import train_test_split\n",
    "from sklearn import metrics\n",
    "import cv2\n",
    "import matplotlib.pyplot as plt\n",
    "from glob import glob\n",
    "\n",
    "# Enable mixed precision for better GPU performance\n",
    "tf.keras.mixed_precision.set_global_policy('mixed_float16')\n",
    "\n",
    "print(\"Libraries imported successfully!\")\n"
   ]
  },
  {
   "cell_type": "code",
   "execution_count": 8,
   "id": "e16892a0-7117-4a0f-bd46-1da73401d2ae",
   "metadata": {},
   "outputs": [
    {
     "name": "stdout",
     "output_type": "stream",
     "text": [
      " Parameters set successfully!\n"
     ]
    }
   ],
   "source": [
    "# set parameter and define path of dataset\n",
    "\n",
    "# Image processing parameters\n",
    "IMG_SIZE = 64  # Reduced to save memory\n",
    "SPLIT = 0.2\n",
    "EPOCHS = 10\n",
    "BATCH_SIZE = 16\n",
    "\n",
    "# Define dataset path\n",
    "data_path = r\"E:\\Machine Learning\\lung cancer\\lung_colon_image_set\"\n",
    "\n",
    "# Folders containing class images\n",
    "category_folders = [\"colon_image_sets\", \"lung_image_sets\"]\n",
    "\n",
    "print(\" Parameters set successfully!\")"
   ]
  },
  {
   "cell_type": "code",
   "execution_count": 9,
   "id": "82bf8dbb-4d8b-4a3d-b4b0-8c4c5079e122",
   "metadata": {},
   "outputs": [
    {
     "name": "stdout",
     "output_type": "stream",
     "text": [
      "Classes found: ['colon_aca', 'colon_n', 'lung_aca', 'lung_n', 'lung_scc']\n"
     ]
    }
   ],
   "source": [
    "# get class name and subfolder \n",
    "\n",
    "classes = []\n",
    "\n",
    "# Get all class names (subfolders inside category_folders)\n",
    "for category in category_folders:\n",
    "    category_path = os.path.join(data_path, category)\n",
    "    subfolders = sorted([d for d in os.listdir(category_path) if os.path.isdir(os.path.join(category_path, d))])\n",
    "    classes.extend([(os.path.join(category_path, subfolder), subfolder) for subfolder in subfolders])\n",
    "\n",
    "class_names = [cls[1] for cls in classes]\n",
    "print(\"Classes found:\", class_names)\n"
   ]
  },
  {
   "cell_type": "code",
   "execution_count": 10,
   "id": "18c293a2-70b9-4c29-9da5-99879ff1d34c",
   "metadata": {},
   "outputs": [
    {
     "name": "stdout",
     "output_type": "stream",
     "text": [
      "Loaded 25000 images from dataset.\n"
     ]
    }
   ],
   "source": [
    "# load and preprocess image\n",
    "\n",
    "X, Y = [], []\n",
    "\n",
    "for i, (class_path, class_name) in enumerate(classes):\n",
    "    image_files = glob(os.path.join(class_path, \"*.jpeg\")) + \\\n",
    "                  glob(os.path.join(class_path, \"*.jpg\")) + \\\n",
    "                  glob(os.path.join(class_path, \"*.png\"))\n",
    "\n",
    "    for image in image_files:\n",
    "        img = cv2.imread(image)\n",
    "        if img is None:\n",
    "            print(f\"⚠ Warning: Could not load image {image}\")\n",
    "            continue  \n",
    "\n",
    "        img = cv2.resize(img, (IMG_SIZE, IMG_SIZE))\n",
    "        X.append(img)\n",
    "        Y.append(i)\n",
    "\n",
    "# Convert lists to numpy arrays\n",
    "X = np.array(X, dtype=np.float16) / 255.0  # Normalize images\n",
    "Y = pd.get_dummies(Y).values  # One-hot encode labels\n",
    "\n",
    "# Ensure dataset is not empty\n",
    "if len(X) == 0:\n",
    "    raise ValueError(\"No images found! Check the dataset path.\")\n",
    "\n",
    "print(f\"Loaded {len(X)} images from dataset.\")\n"
   ]
  },
  {
   "cell_type": "code",
   "execution_count": 11,
   "id": "4fce4275-08dd-4356-953e-7d6da47a3e0a",
   "metadata": {},
   "outputs": [
    {
     "name": "stdout",
     "output_type": "stream",
     "text": [
      " Dataset split into: 20000 train samples, 5000 validation samples\n"
     ]
    }
   ],
   "source": [
    "# train test split\n",
    "X_train, X_val, Y_train, Y_val = train_test_split(X, Y, test_size=SPLIT, random_state=2022)\n",
    "\n",
    "print(f\" Dataset split into: {X_train.shape[0]} train samples, {X_val.shape[0]} validation samples\")\n"
   ]
  },
  {
   "cell_type": "code",
   "execution_count": 12,
   "id": "80723daf-613b-4bca-a22b-90a2b80e3701",
   "metadata": {},
   "outputs": [
    {
     "name": "stdout",
     "output_type": "stream",
     "text": [
      "Model: \"sequential\"\n",
      "_________________________________________________________________\n",
      " Layer (type)                Output Shape              Param #   \n",
      "=================================================================\n",
      " conv2d (Conv2D)             (None, 64, 64, 16)        448       \n",
      "                                                                 \n",
      " max_pooling2d (MaxPooling2D  (None, 32, 32, 16)       0         \n",
      " )                                                               \n",
      "                                                                 \n",
      " conv2d_1 (Conv2D)           (None, 32, 32, 32)        4640      \n",
      "                                                                 \n",
      " max_pooling2d_1 (MaxPooling  (None, 16, 16, 32)       0         \n",
      " 2D)                                                             \n",
      "                                                                 \n",
      " conv2d_2 (Conv2D)           (None, 16, 16, 64)        18496     \n",
      "                                                                 \n",
      " max_pooling2d_2 (MaxPooling  (None, 8, 8, 64)         0         \n",
      " 2D)                                                             \n",
      "                                                                 \n",
      " flatten (Flatten)           (None, 4096)              0         \n",
      "                                                                 \n",
      " dense (Dense)               (None, 128)               524416    \n",
      "                                                                 \n",
      " batch_normalization (BatchN  (None, 128)              512       \n",
      " ormalization)                                                   \n",
      "                                                                 \n",
      " dense_1 (Dense)             (None, 64)                8256      \n",
      "                                                                 \n",
      " dropout (Dropout)           (None, 64)                0         \n",
      "                                                                 \n",
      " batch_normalization_1 (Batc  (None, 64)               256       \n",
      " hNormalization)                                                 \n",
      "                                                                 \n",
      " dense_2 (Dense)             (None, 5)                 325       \n",
      "                                                                 \n",
      "=================================================================\n",
      "Total params: 557,349\n",
      "Trainable params: 556,965\n",
      "Non-trainable params: 384\n",
      "_________________________________________________________________\n",
      "Model defined successfully!\n"
     ]
    }
   ],
   "source": [
    "# define CNN model\n",
    "model = keras.models.Sequential([\n",
    "    layers.Conv2D(16, (3, 3), activation='relu', input_shape=(IMG_SIZE, IMG_SIZE, 3), padding='same'),\n",
    "    layers.MaxPooling2D(2, 2),\n",
    "\n",
    "    layers.Conv2D(32, (3, 3), activation='relu', padding='same'),\n",
    "    layers.MaxPooling2D(2, 2),\n",
    "\n",
    "    layers.Conv2D(64, (3, 3), activation='relu', padding='same'),\n",
    "    layers.MaxPooling2D(2, 2),\n",
    "\n",
    "    layers.Flatten(),\n",
    "    layers.Dense(128, activation='relu'),\n",
    "    layers.BatchNormalization(),\n",
    "    layers.Dense(64, activation='relu'),\n",
    "    layers.Dropout(0.3),\n",
    "    layers.BatchNormalization(),\n",
    "    layers.Dense(len(class_names), activation='softmax', dtype='float32')  # Prevents precision issues\n",
    "])\n",
    "\n",
    "model.summary()\n",
    "print(\"Model defined successfully!\")\n"
   ]
  },
  {
   "cell_type": "code",
   "execution_count": 13,
   "id": "4fbd9932-5051-4515-9f3b-1d5c801d2e1a",
   "metadata": {},
   "outputs": [
    {
     "name": "stdout",
     "output_type": "stream",
     "text": [
      "Model compiled successfully\n"
     ]
    }
   ],
   "source": [
    "# Compile the model\n",
    "model.compile(\n",
    "    optimizer='adam',\n",
    "    loss='categorical_crossentropy',\n",
    "    metrics=['accuracy']\n",
    ")\n",
    "\n",
    "print(\"Model compiled successfully\")\n"
   ]
  },
  {
   "cell_type": "code",
   "execution_count": 14,
   "id": "805bdc41-9a9f-42be-b4cb-ffaa2833c0be",
   "metadata": {},
   "outputs": [
    {
     "name": "stdout",
     "output_type": "stream",
     "text": [
      "Callbacks defined successfully\n"
     ]
    }
   ],
   "source": [
    "# Define Callbacks (Early Stopping & Learning Rate Adjustment)\n",
    "class myCallback(tf.keras.callbacks.Callback):\n",
    "    def on_epoch_end(self, epoch, logs={}):\n",
    "        if logs.get('val_accuracy') > 0.90:\n",
    "            print(\"\\n Validation accuracy reached 90%, stopping training!\")\n",
    "            self.model.stop_training = True\n",
    "\n",
    "es = keras.callbacks.EarlyStopping(patience=3, monitor='val_accuracy', restore_best_weights=True)\n",
    "lr = keras.callbacks.ReduceLROnPlateau(monitor='val_loss', patience=2, factor=0.5, verbose=1)\n",
    "\n",
    "print(\"Callbacks defined successfully\")\n"
   ]
  },
  {
   "cell_type": "code",
   "execution_count": 15,
   "id": "085f08a1-abd5-48b4-9dd2-ef43ba340392",
   "metadata": {},
   "outputs": [
    {
     "name": "stdout",
     "output_type": "stream",
     "text": [
      "Epoch 1/10\n",
      "1250/1250 [==============================] - 19s 10ms/step - loss: 0.4968 - accuracy: 0.7999 - val_loss: 4.8721 - val_accuracy: 0.3248 - lr: 0.0010\n",
      "Epoch 2/10\n",
      "1250/1250 [==============================] - 12s 9ms/step - loss: 0.3558 - accuracy: 0.8608 - val_loss: 1.2382 - val_accuracy: 0.6654 - lr: 0.0010\n",
      "Epoch 3/10\n",
      "1250/1250 [==============================] - 12s 9ms/step - loss: 0.3101 - accuracy: 0.8781 - val_loss: 0.8670 - val_accuracy: 0.7510 - lr: 0.0010\n",
      "Epoch 4/10\n",
      "1250/1250 [==============================] - 12s 9ms/step - loss: 0.2627 - accuracy: 0.9020 - val_loss: 11.2776 - val_accuracy: 0.3934 - lr: 0.0010\n",
      "Epoch 5/10\n",
      "1247/1250 [============================>.] - ETA: 0s - loss: 0.2393 - accuracy: 0.9094\n",
      "Epoch 5: ReduceLROnPlateau reducing learning rate to 0.0005000000237487257.\n",
      "1250/1250 [==============================] - 12s 9ms/step - loss: 0.2394 - accuracy: 0.9094 - val_loss: 1.3601 - val_accuracy: 0.6952 - lr: 0.0010\n",
      "Epoch 6/10\n",
      "1250/1250 [==============================] - 12s 10ms/step - loss: 0.1906 - accuracy: 0.9268 - val_loss: 0.7536 - val_accuracy: 0.7504 - lr: 5.0000e-04\n",
      "Model training completed\n"
     ]
    }
   ],
   "source": [
    "# train the model\n",
    "history = model.fit(X_train, Y_train,\n",
    "                    validation_data=(X_val, Y_val),\n",
    "                    batch_size=BATCH_SIZE,\n",
    "                    epochs=EPOCHS,\n",
    "                    verbose=1,\n",
    "                    callbacks=[es, lr, myCallback()])\n",
    "\n",
    "print(\"Model training completed\")\n"
   ]
  },
  {
   "cell_type": "code",
   "execution_count": 23,
   "id": "b79e7445-55d9-4ada-9021-f8e8160e3462",
   "metadata": {},
   "outputs": [],
   "source": [
    "# # Save the Trained Model\n",
    "# model_save_path = r\"E:\\Machine Learning\\lung cancer\\lung_cancer_model.h5\"\n",
    "# model.save(model_save_path)\n",
    "\n",
    "# print(f\"\\n Model saved successfully at: {model_save_path}\")\n"
   ]
  },
  {
   "cell_type": "code",
   "execution_count": 19,
   "id": "f72dd488-afba-4077-8f64-c48c2e31a46c",
   "metadata": {},
   "outputs": [
    {
     "name": "stdout",
     "output_type": "stream",
     "text": [
      "['assets', 'keras_metadata.pb', 'saved_model.pb', 'variables']\n"
     ]
    }
   ],
   "source": [
    "import os\n",
    "\n",
    "model_dir = r\"E:\\Machine Learning\\lung cancer\\lung_cancer_model\"\n",
    "print(os.listdir(model_dir))\n"
   ]
  },
  {
   "cell_type": "code",
   "execution_count": 21,
   "id": "8400e22e-25b1-4fac-9c6c-e2b85327c6b0",
   "metadata": {},
   "outputs": [
    {
     "name": "stderr",
     "output_type": "stream",
     "text": [
      "WARNING:absl:Found untraced functions such as _jit_compiled_convolution_op, _jit_compiled_convolution_op, _jit_compiled_convolution_op while saving (showing 3 of 3). These functions will not be directly callable after loading.\n"
     ]
    },
    {
     "name": "stdout",
     "output_type": "stream",
     "text": [
      "INFO:tensorflow:Assets written to: E:\\Machine Learning\\lung cancer\\lung_cancer_model\\assets\n"
     ]
    },
    {
     "name": "stderr",
     "output_type": "stream",
     "text": [
      "INFO:tensorflow:Assets written to: E:\\Machine Learning\\lung cancer\\lung_cancer_model\\assets\n"
     ]
    }
   ],
   "source": [
    "# Save in TensorFlow's native format\n",
    "model.save(r\"E:\\Machine Learning\\lung cancer\\lung_cancer_model\")\n"
   ]
  },
  {
   "cell_type": "code",
   "execution_count": 24,
   "id": "64ad8dfe-f624-40fd-875b-8cd8672f1aa8",
   "metadata": {},
   "outputs": [
    {
     "data": {
      "text/plain": [
       "<Figure size 800x500 with 0 Axes>"
      ]
     },
     "metadata": {},
     "output_type": "display_data"
    },
    {
     "data": {
      "image/png": "[encoded data removed]",
      "text/plain": [
       "<Figure size 640x480 with 1 Axes>"
      ]
     },
     "metadata": {},
     "output_type": "display_data"
    },
    {
     "name": "stdout",
     "output_type": "stream",
     "text": [
      "Training history plotted successfully!\n"
     ]
    }
   ],
   "source": [
    "# Plot Training & Validation Accuracy\n",
    "history_df = pd.DataFrame(history.history)\n",
    "\n",
    "plt.figure(figsize=(8, 5))\n",
    "history_df.loc[:, ['accuracy', 'val_accuracy']].plot()\n",
    "plt.title(\"Training & Validation Accuracy\")\n",
    "plt.xlabel(\"Epochs\")\n",
    "plt.ylabel(\"Accuracy\")\n",
    "plt.legend([\"Train Accuracy\", \"Validation Accuracy\"])\n",
    "plt.grid()\n",
    "plt.show()\n",
    "\n",
    "print(\"Training history plotted successfully!\")\n",
    "\n"
   ]
  },
  {
   "cell_type": "code",
   "execution_count": 42,
   "id": "df56cb32-f85c-40b9-9a5e-66d64b2bb319",
   "metadata": {},
   "outputs": [
    {
     "name": "stdout",
     "output_type": "stream",
     "text": [
      "157/157 [==============================] - 1s 4ms/step\n",
      "\n",
      " Model Evaluation Report:\n",
      "                              precision    recall  f1-score   support\n",
      "\n",
      "         Lung Adenocarcinoma       0.49      0.98      0.65       967\n",
      "Lung Squamous Cell Carcinoma       1.00      0.00      0.00      1019\n",
      "                 Normal Lung       0.95      0.85      0.90      1010\n",
      "        Colon Adenocarcinoma       0.92      1.00      0.96       999\n",
      "                Normal Colon       0.89      0.95      0.92      1005\n",
      "\n",
      "                    accuracy                           0.75      5000\n",
      "                   macro avg       0.85      0.75      0.68      5000\n",
      "                weighted avg       0.85      0.75      0.68      5000\n",
      "\n"
     ]
    }
   ],
   "source": [
    "# model evaluation\n",
    "Y_pred = model.predict(X_val)\n",
    "Y_val_classes = np.argmax(Y_val, axis=1)\n",
    "Y_pred_classes = np.argmax(Y_pred, axis=1)\n",
    "\n",
    "# Print Classification Report\n",
    "print(\"\\n Model Evaluation Report:\")\n",
    "print(metrics.classification_report(Y_val_classes, Y_pred_classes, target_names=class_names, zero_division=1))\n"
   ]
  },
  {
   "cell_type": "code",
   "execution_count": 44,
   "id": "8482977b-7927-42aa-97f8-40a7b30e20f2",
   "metadata": {},
   "outputs": [
    {
     "name": "stdout",
     "output_type": "stream",
     "text": [
      "Raw Model Predictions: [[9.4892890e-08 5.7246239e-09 1.1138915e-05 9.9998844e-01 3.2817960e-07]]\n",
      "Shape of Predictions: (1, 5)\n",
      "Predicted Class: Colon Adenocarcinoma\n"
     ]
    }
   ],
   "source": [
    "import numpy as np\n",
    "import cv2\n",
    "import tensorflow as tf\n",
    "\n",
    "# Load the trained model (SavedModel format)\n",
    "model_path = r\"E:\\Machine Learning\\lung cancer\\lung_cancer_model\"\n",
    "model = tf.keras.models.load_model(model_path)\n",
    "\n",
    "# Updated class names (5 categories)\n",
    "class_names = [\n",
    "    \"Lung Adenocarcinoma\", \n",
    "    \"Lung Squamous Cell Carcinoma\", \n",
    "    \"Normal Lung\",\n",
    "    \"Colon Adenocarcinoma\",\n",
    "    \"Normal Colon\"\n",
    "]\n",
    "\n",
    "# Define a function for image preprocessing (to ensure consistent input shape)\n",
    "def preprocess_image(image_path, img_size=64):\n",
    "    img = cv2.imread(image_path)\n",
    "    if img is None:\n",
    "        raise ValueError(f\"Error: Could not load the image at {image_path}. Check the file path.\")\n",
    "\n",
    "    img = cv2.cvtColor(img, cv2.COLOR_BGR2RGB)\n",
    "    img = cv2.resize(img, (img_size, img_size))\n",
    "    img = img.astype(np.float32) / 255.0  # Normalize\n",
    "    img = np.expand_dims(img, axis=0)  # Add batch dimension\n",
    "    return img\n",
    "\n",
    "# Load and preprocess the image\n",
    "image_path = r\"E:\\Machine Learning\\lung cancer\\lungn.jpeg\"\n",
    "img = preprocess_image(image_path)\n",
    "\n",
    "# Use @tf.function to avoid retracing issues\n",
    "@tf.function(reduce_retracing=True)\n",
    "def make_prediction(model, img):\n",
    "    return model(img, training=False)\n",
    "\n",
    "# Make prediction\n",
    "predictions = make_prediction(model, img)\n",
    "\n",
    "# Debugging: Print raw predictions\n",
    "print(\"Raw Model Predictions:\", predictions.numpy())  # Convert tensor to NumPy\n",
    "print(\"Shape of Predictions:\", predictions.shape)\n",
    "\n",
    "# Ensure output matches class count\n",
    "if predictions.shape[1] == len(class_names):\n",
    "    predicted_class = np.argmax(predictions.numpy())\n",
    "    print(f\"Predicted Class: {class_names[predicted_class]}\")\n",
    "else:\n",
    "    print(\"Error: Model output does not match class names count! Update class_n\")\n"
   ]
  },
  {
   "cell_type": "code",
   "execution_count": null,
   "id": "8e5ab12c-2760-419f-b8e0-d12ad4c0c5f2",
   "metadata": {},
   "outputs": [],
   "source": []
  }
 ],
 "metadata": {
  "kernelspec": {
   "display_name": "ducat",
   "language": "python",
   "name": "ducat"
  },
  "language_info": {
   "codemirror_mode": {
    "name": "ipython",
    "version": 3
   },
   "file_extension": ".py",
   "mimetype": "text/x-python",
   "name": "python",
   "nbconvert_exporter": "python",
   "pygments_lexer": "ipython3",
   "version": "3.9.21"
  }
 },
 "nbformat": 4,
 "nbformat_minor": 5
}
